{
 "cells": [
  {
   "cell_type": "code",
   "execution_count": 1,
   "metadata": {
    "collapsed": true
   },
   "outputs": [],
   "source": [
    "import pandas as pd\n",
    "import matplotlib.pyplot as plt\n",
    "import numpy as np"
   ]
  },
  {
   "cell_type": "code",
   "execution_count": 2,
   "metadata": {},
   "outputs": [],
   "source": [
    "data = pd.read_csv('data.csv')"
   ]
  },
  {
   "cell_type": "code",
   "execution_count": 11,
   "metadata": {},
   "outputs": [
    {
     "data": {
      "text/plain": [
       "Index(['xiaoqu_id', 'louming_id', 'louceng_id', 'fangjian_value', 'datetimes',\n       'used_power', 'surplus_power'],\n      dtype='object')"
      ]
     },
     "execution_count": 11,
     "metadata": {},
     "output_type": "execute_result"
    }
   ],
   "source": [
    "data.dtypes"
   ]
  },
  {
   "cell_type": "code",
   "execution_count": 21,
   "metadata": {},
   "outputs": [],
   "source": [
    "# 将datetimes列转化为pandas里的datetime64类型\n",
    "data['datetimes'] = pd.to_datetime(data['datetimes'])"
   ]
  },
  {
   "cell_type": "code",
   "execution_count": 26,
   "metadata": {},
   "outputs": [],
   "source": [
    "group = data.groupby(data['fangjian_value'])['used_power']"
   ]
  },
  {
   "cell_type": "code",
   "execution_count": 27,
   "metadata": {},
   "outputs": [
    {
     "data": {
      "text/plain": [
       "fangjian_value\n70      4.058412\n71      2.977982\n72      2.031159\n73      2.484246\n74      3.100130\n75      0.660410\n76      2.887443\n77      2.604416\n78      1.353816\n79      1.953357\n80      1.724875\n81      3.962298\n82      1.400000\n83      1.359500\n84      2.084685\n85     -0.006673\n86     -0.087502\n87      0.376024\n88     -0.096893\n89      0.258282\n90      0.164146\n91      0.136773\n92      0.286244\n93      0.409950\n94      0.311429\n95      0.717972\n96      0.333686\n97      0.416843\n98      0.119980\n99      0.435564\n          ...   \n4463    0.000000\n4464    1.198333\n4465    0.000000\n4466    0.000000\n4469    0.020000\n4470    0.000000\n4471    0.348333\n4472    0.836667\n4473    0.706667\n4474    0.306667\n4475    0.433333\n4476    0.615000\n4477    0.290000\n4478    0.341667\n4479    0.410000\n4480    0.163333\n4481    1.031667\n4482    0.040000\n4483    0.598333\n4484    0.391667\n4485    1.096667\n4486    0.396667\n4487    0.276667\n4488    0.458333\n4489    0.056667\n4491    0.226667\n4494    0.020000\n4495    0.660000\n4496    0.183333\n4497    1.428333\nName: used_power, Length: 3637, dtype: float64"
      ]
     },
     "execution_count": 27,
     "metadata": {},
     "output_type": "execute_result"
    }
   ],
   "source": [
    "group.mean()"
   ]
  },
  {
   "cell_type": "code",
   "execution_count": null,
   "metadata": {},
   "outputs": [],
   "source": []
  }
 ],
 "metadata": {
  "kernelspec": {
   "display_name": "Python 2",
   "language": "python",
   "name": "python2"
  },
  "language_info": {
   "codemirror_mode": {
    "name": "ipython",
    "version": 2
   },
   "file_extension": ".py",
   "mimetype": "text/x-python",
   "name": "python",
   "nbconvert_exporter": "python",
   "pygments_lexer": "ipython2",
   "version": "2.7.6"
  }
 },
 "nbformat": 4,
 "nbformat_minor": 0
}
